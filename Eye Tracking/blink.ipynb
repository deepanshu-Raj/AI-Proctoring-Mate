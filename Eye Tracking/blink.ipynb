{
 "cells": [
  {
   "cell_type": "code",
   "execution_count": 1,
   "metadata": {},
   "outputs": [
    {
     "name": "stdout",
     "output_type": "stream",
     "text": [
      "import success!!\n"
     ]
    }
   ],
   "source": [
    "import cv2\n",
    "import numpy as np\n",
    "import dlib\n",
    "from math import hypot\n",
    "from facialLandmarksDetection import *\n",
    "\n",
    "print('import success!!')"
   ]
  },
  {
   "cell_type": "code",
   "execution_count": 2,
   "metadata": {},
   "outputs": [],
   "source": [
    "def midPoint(pointA,pointB):\n",
    "    \"\"\"\n",
    "    Input : two points A,B.\n",
    "    Output : Midpoint of these two points\n",
    "    \"\"\"\n",
    "    \n",
    "    X = int(pointA.x+pointB.x)/2\n",
    "    Y = int(pointA.y+pointB.y)/2\n",
    "    \n",
    "    return (X,Y)\n",
    "\n",
    "def findDist(pointA,pointB):\n",
    "    \"\"\"\n",
    "    Input : two points A, B.\n",
    "    Output : Eucledian Norm of these two points.\n",
    "    \"\"\"\n",
    "    \n",
    "    dist = hypot((pointA[0]-pointB[0]),(pointA[1]-pointB[1]))\n",
    "    return dist"
   ]
  },
  {
   "cell_type": "code",
   "execution_count": 4,
   "metadata": {},
   "outputs": [],
   "source": [
    "def isBlinking(faces,frame):\n",
    "    \"\"\"\n",
    "    Input : frame from the video stream, and faces : from the localisation if faces in the screen.\n",
    "    Output : tuple ~ (n1,n2,str)\n",
    "            n1 : left eye Ratio(horLen/verLen)\n",
    "            n2 : right eye Ratio(horLen/verLen)\n",
    "            str : 'Blink' or 'no Blink'\n",
    "            \n",
    "    <!-- Uncomment the commented section to find more functionality(specific to a particular eye) -->\n",
    "    \"\"\"\n",
    "    \n",
    "    font = cv2.FONT_HERSHEY_PLAIN\n",
    "    ratio = ()\n",
    "    thickness = 5\n",
    "    \n",
    "    \n",
    "    #these points are written w.r.t the camera capture. [left<->right]\n",
    "    right = [36,37,38,39,40,41]\n",
    "    left = [42,43,44,45,46,47]\n",
    "    \n",
    "    for face in faces:\n",
    "        \n",
    "        facialLandmarks = shapePredictor(frame,face)\n",
    "        \n",
    "        #right eye markings        \n",
    "        rLeftPoint = (facialLandmarks.part(36).x,facialLandmarks.part(36).y)\n",
    "        rRightPoint = (facialLandmarks.part(39).x,facialLandmarks.part(39).y)\n",
    "        rTopPoint = midPoint(facialLandmarks.part(37),facialLandmarks.part(38))\n",
    "        rBottomPoint = midPoint(facialLandmarks.part(40),facialLandmarks.part(41))\n",
    "        \n",
    "        rightHorLen = findDist(rLeftPoint,rRightPoint)\n",
    "        rightVerLen = findDist(rTopPoint,rBottomPoint)\n",
    "        \n",
    "        #left eye markings\n",
    "        lLeftPoint = (facialLandmarks.part(42).x,facialLandmarks.part(42).y)\n",
    "        lRightPoint = (facialLandmarks.part(45).x,facialLandmarks.part(45).y)\n",
    "        lTopPoint = midPoint(facialLandmarks.part(43),facialLandmarks.part(44))\n",
    "        lBottomPoint = midPoint(facialLandmarks.part(46),facialLandmarks.part(47))\n",
    "        \n",
    "        leftHorLen = findDist(lLeftPoint,lRightPoint)\n",
    "        leftVerLen = findDist(lTopPoint,lBottomPoint)\n",
    "        \n",
    "        # Calculating the ratios of left and right eye's vertical and horizontal lengths.\n",
    "        lRatio = leftHorLen/leftVerLen\n",
    "        rRatio = rightHorLen/rightVerLen\n",
    "        \n",
    "        # optimal threshold for a blink comes to be around 5.1\n",
    "        # hence, if the ratio >= 5.1 : blink else noBlink.\n",
    "        \n",
    "        if(lRatio>=5.1 or rRatio>=5.1) :\n",
    "            cv2.putText(frame,\"blink\",(50,90),font,7,(0,255,255),thickness)\n",
    "            ratio += (lRatio,rRatio,'Blink')\n",
    "        else:\n",
    "            ratio += (lRatio,rRatio,'No Blink')\n",
    "        \n",
    "        # for indivisual eye\n",
    "        # if(lRatio>=5.1) :\n",
    "        #     cv2.putText(frame,\"LEFT\",(50,90),font,7,(0,255,255),thickness)\n",
    "        # if(rRatio>=5.1) :\n",
    "        #     cv2.putText(frame,\"RIGHT\",(50,90),font,7,(0,255,255),thickness)\n",
    "    \n",
    "    return ratio"
   ]
  },
  {
   "cell_type": "code",
   "execution_count": null,
   "metadata": {},
   "outputs": [],
   "source": []
  }
 ],
 "metadata": {
  "kernelspec": {
   "display_name": "Python 3",
   "language": "python",
   "name": "python3"
  },
  "language_info": {
   "codemirror_mode": {
    "name": "ipython",
    "version": 3
   },
   "file_extension": ".py",
   "mimetype": "text/x-python",
   "name": "python",
   "nbconvert_exporter": "python",
   "pygments_lexer": "ipython3",
   "version": "3.8.6"
  }
 },
 "nbformat": 4,
 "nbformat_minor": 4
}
