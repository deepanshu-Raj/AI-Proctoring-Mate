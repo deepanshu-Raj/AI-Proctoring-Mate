{
 "cells": [
  {
   "cell_type": "code",
   "execution_count": 1,
   "metadata": {},
   "outputs": [
    {
     "name": "stdout",
     "output_type": "stream",
     "text": [
      "import success!!\n",
      "import Success!!\n"
     ]
    }
   ],
   "source": [
    "import cv2\n",
    "import numpy as np\n",
    "import dlib\n",
    "from facialLandmarksDetection import *\n",
    "from blink import *\n",
    "from gazeDetection import *\n",
    "\n",
    "# Video stream generation\n",
    "cap = cv2.VideoCapture(0)\n",
    "\n",
    "#values hold the blink script Output\n",
    "values = []\n",
    "\n",
    "if(cap.isOpened()==False):\n",
    "    cap.open()\n",
    "\n",
    "while True:\n",
    "    ret, frame = cap.read()\n",
    "    \n",
    "    # converting frame to grayscale\n",
    "    # frame = cv2.cvtColor(frame,cv2.COLOR_BGR2GRAY)\n",
    "    \n",
    "    # these two lines inside frame read, will localize the face and mark the facial landmarks.\n",
    "    # <!-- important --> must Run to know about the faces.\n",
    "    faceCount,faces = detectFace(frame)\n",
    "    #landmarkLocalisation(faces,frame)\n",
    "    #isBlinking() will return a tuple of ratios and conclusion.\n",
    "    #values.append(isBlinking(faces,frame))\n",
    "    gazeDetection(faces,frame)\n",
    "    \n",
    "    cv2.imshow('frame',frame)\n",
    "    \n",
    "    if cv2.waitKey(1) & 0xFF == ord('q'):\n",
    "        break\n",
    "\n",
    "cap.release()\n",
    "cv2.destroyAllWindows()"
   ]
  },
  {
   "cell_type": "code",
   "execution_count": null,
   "metadata": {},
   "outputs": [],
   "source": []
  }
 ],
 "metadata": {
  "kernelspec": {
   "display_name": "Python 3",
   "language": "python",
   "name": "python3"
  },
  "language_info": {
   "codemirror_mode": {
    "name": "ipython",
    "version": 3
   },
   "file_extension": ".py",
   "mimetype": "text/x-python",
   "name": "python",
   "nbconvert_exporter": "python",
   "pygments_lexer": "ipython3",
   "version": "3.8.6"
  }
 },
 "nbformat": 4,
 "nbformat_minor": 4
}
