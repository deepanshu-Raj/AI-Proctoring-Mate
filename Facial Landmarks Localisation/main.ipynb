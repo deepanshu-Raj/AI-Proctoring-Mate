{
 "cells": [
  {
   "cell_type": "code",
   "execution_count": 1,
   "metadata": {},
   "outputs": [
    {
     "name": "stdout",
     "output_type": "stream",
     "text": [
      "import success!!\n"
     ]
    }
   ],
   "source": [
    "import cv2\n",
    "import numpy as np\n",
    "import dlib\n",
    "from facialLandmarksDetection import *\n",
    "from blink import *\n",
    "\n",
    "# Video stream generation\n",
    "cap = cv2.VideoCapture(0)\n",
    "\n",
    "#values hold the blink script Output\n",
    "values = []\n",
    "\n",
    "if(cap.isOpened()==False):\n",
    "    cap.open()\n",
    "\n",
    "while True:\n",
    "    ret, frame = cap.read()\n",
    "    \n",
    "    # converting frame to grayscale\n",
    "    # frame = cv2.cvtColor(frame,cv2.COLOR_BGR2GRAY)\n",
    "    \n",
    "    # these two lines inside frame read, will localize the face and mark the facial landmarks.\n",
    "    # <!-- important --> must Run to know about the faces.\n",
    "    faceCount,faces = detectFace(frame)\n",
    "    #landmarkLocalisation(faces,frame)\n",
    "    #isBlinking() will return a tuple of ratios and conclusion.\n",
    "    values.append(isBlinking(faces,frame))\n",
    "    \n",
    "    \n",
    "    cv2.imshow('frame',frame)\n",
    "    \n",
    "    if cv2.waitKey(1) & 0xFF == ord('q'):\n",
    "        break\n",
    "\n",
    "cap.release()\n",
    "cv2.destroyAllWindows()"
   ]
  },
  {
   "cell_type": "code",
   "execution_count": 3,
   "metadata": {},
   "outputs": [
    {
     "data": {
      "text/plain": [
       "[(3.84734069934712, 4.496742115706928, 'No Blink'),\n",
       " (5.4, 4.730767938639159, 'Blink'),\n",
       " (4.89228231294027, 5.203844732503074, 'Blink'),\n",
       " (4.5490894557079296, 4.975185951049946, 'No Blink'),\n",
       " (4.144450577366714, 4.0, 'No Blink'),\n",
       " (3.5903801601394725, 3.5920265682837917, 'No Blink'),\n",
       " (3.48182092059269, 3.700584162548503, 'No Blink'),\n",
       " (3.6018677554060234, 3.568420442457485, 'No Blink'),\n",
       " (3.2532533850821763, 3.3489378339086286, 'No Blink'),\n",
       " (3.5742845723419445, 3.7170319517879102, 'No Blink'),\n",
       " (3.6018677554060234, 4.153846153846154, 'No Blink'),\n",
       " (3.2524029578144216, 3.849978574665151, 'No Blink'),\n",
       " (3.0625659739551057, 3.377314021526574, 'No Blink'),\n",
       " (8.666666666666666, 7.359347797189638, 'Blink'),\n",
       " (3.461546025254575, 3.2524029578144216, 'No Blink'),\n",
       " (3.6018677554060234, 4.0, 'No Blink'),\n",
       " (3.679673898594819, 3.849978574665151, 'No Blink'),\n",
       " (3.461546025254575, 3.84734069934712, 'No Blink'),\n",
       " (3.2532533850821763, 3.84734069934712, 'No Blink'),\n",
       " (4.975185951049946, 5.0, 'No Blink'),\n",
       " (3.461546025254575, 3.857142857142857, 'No Blink'),\n",
       " (3.7170319517879102, 3.849978574665151, 'No Blink'),\n",
       " (3.2524029578144216, 3.377314021526574, 'No Blink'),\n",
       " (5.2, 5.1027895839885, 'Blink'),\n",
       " (3.469207147186298, 3.857142857142857, 'No Blink'),\n",
       " (3.626534292235859, 3.6179405970004708, 'No Blink'),\n",
       " (3.390410085236753, 3.75, 'No Blink'),\n",
       " (3.210121189111166, 3.5294117647058822, 'No Blink'),\n",
       " (3.099960660647321, 3.3333333333333335, 'No Blink'),\n",
       " (5.8, 5.285251583181321, 'Blink'),\n",
       " (3.605551275463989, 4.0, 'No Blink'),\n",
       " (3.4954111106828076, 4.0, 'No Blink'),\n",
       " (5.782049702781194, 6.985699678629192, 'Blink'),\n",
       " (3.5944893910402467, 4.0025502074634, 'No Blink'),\n",
       " (3.163356751706414, 3.5, 'No Blink'),\n",
       " (4.8889302862960005, 5.414794548272353, 'Blink'),\n",
       " (3.8677103916231097, 3.8597874531732272, 'No Blink'),\n",
       " (3.5708670800040667, 3.727439511210679, 'No Blink'),\n",
       " (5.403702434442518, 5.414794548272353, 'Blink'),\n",
       " (3.5708670800040667, 3.9923785259436806, 'No Blink'),\n",
       " (3.857142857142857, 3.7357135269658395, 'No Blink'),\n",
       " (3.370736967531011, 3.377314021526574, 'No Blink'),\n",
       " (3.173163329745473, 3.2941176470588234, 'No Blink'),\n",
       " (3.296217817911035, 3.5, 'No Blink'),\n",
       " (5.4, 5.414794548272353, 'Blink'),\n",
       " (3.290529776023391, 3.6200909333549554, 'No Blink'),\n",
       " (2.9974348007280134, 3.2941176470588234, 'No Blink'),\n",
       " (4.487530616551019, 4.89228231294027, 'No Blink'),\n",
       " (4.0025502074634, 4.297742225319489, 'No Blink'),\n",
       " (3.173163329745473, 3.4954111106828076, 'No Blink'),\n",
       " (3.156876669616226, 3.6179405970004708, 'No Blink'),\n",
       " (4.487530616551019, 4.512328790226961, 'No Blink'),\n",
       " (3.370736967531011, 3.368427452379749, 'No Blink'),\n",
       " (3.6024682896283458, 3.7357135269658395, 'No Blink'),\n",
       " (3.849229539445171, 4.503085362035432, 'No Blink'),\n",
       " (5.203844732503074, 6.46886032050112, 'Blink'),\n",
       " (2.9974348007280134, 3.40587727318528, 'No Blink'),\n",
       " (3.099960660647321, 3.111111111111111, 'No Blink'),\n",
       " (6.75, 6.768493185340442, 'Blink'),\n",
       " (3.4954111106828076, 3.7357135269658395, 'No Blink'),\n",
       " (3.370736967531011, 3.49318402469011, 'No Blink'),\n",
       " (5.2, 5.215361924162119, 'Blink'),\n",
       " (3.2596012026013246, 3.6024682896283458, 'No Blink'),\n",
       " (3.3581130232502714, 3.5022314315304746, 'No Blink'),\n",
       " (5.203844732503074, 6.0041138160472425, 'Blink'),\n",
       " (3.2436708800693874, 4.0, 'No Blink'),\n",
       " (3.377314021526574, 3.368427452379749, 'No Blink'),\n",
       " (6.201736729460423, 7.37563556583431, 'Blink'),\n",
       " (3.3581130232502714, 3.7357135269658395, 'No Blink'),\n",
       " (3.4692298216687165, 3.4954111106828076, 'No Blink'),\n",
       " (6.254998001598403, 5.7948465824023545, 'Blink'),\n",
       " (3.163356751706414, 3.2941176470588234, 'No Blink'),\n",
       " (4.169998667732268, 4.503085362035432, 'No Blink'),\n",
       " (4.654460226492434, 4.730767938639159, 'No Blink'),\n",
       " (4.7078587942109635, 4.721766826857624, 'No Blink'),\n",
       " (3.461546025254575, 3.5920265682837917, 'No Blink'),\n",
       " (2.9999999999999996, 2.9953810596162374, 'No Blink'),\n",
       " (5.2, 4.912456758584107, 'Blink'),\n",
       " (3.2798901171971253, 3.5, 'No Blink'),\n",
       " (3.3581130232502714, 3.5920265682837917, 'No Blink'),\n",
       " (4.503085362035432, 4.333333333333333, 'No Blink')]"
      ]
     },
     "execution_count": 3,
     "metadata": {},
     "output_type": "execute_result"
    }
   ],
   "source": [
    "values"
   ]
  },
  {
   "cell_type": "code",
   "execution_count": null,
   "metadata": {},
   "outputs": [],
   "source": []
  }
 ],
 "metadata": {
  "kernelspec": {
   "display_name": "Python 3",
   "language": "python",
   "name": "python3"
  },
  "language_info": {
   "codemirror_mode": {
    "name": "ipython",
    "version": 3
   },
   "file_extension": ".py",
   "mimetype": "text/x-python",
   "name": "python",
   "nbconvert_exporter": "python",
   "pygments_lexer": "ipython3",
   "version": "3.8.6"
  }
 },
 "nbformat": 4,
 "nbformat_minor": 4
}
