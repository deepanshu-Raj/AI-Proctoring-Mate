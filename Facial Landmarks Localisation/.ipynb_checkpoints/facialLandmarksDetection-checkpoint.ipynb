{
 "cells": [
  {
   "cell_type": "code",
   "execution_count": 27,
   "metadata": {},
   "outputs": [
    {
     "name": "stdout",
     "output_type": "stream",
     "text": [
      "import success!!\n"
     ]
    }
   ],
   "source": [
    "import cv2\n",
    "import numpy as np\n",
    "import dlib\n",
    "\n",
    "print('import success!!')"
   ]
  },
  {
   "cell_type": "code",
   "execution_count": 28,
   "metadata": {},
   "outputs": [
    {
     "name": "stdout",
     "output_type": "stream",
     "text": [
      "shape predictor initialised\n"
     ]
    }
   ],
   "source": [
    "shapePredictorModel = \"shape_predictor_68_face_landmarks.dat\"\n",
    "shapePredictor = dlib.shape_predictor(shapePredictorModel)\n",
    "print('shape predictor initialised')"
   ]
  },
  {
   "cell_type": "code",
   "execution_count": 32,
   "metadata": {},
   "outputs": [],
   "source": [
    "def detectFace(frame):\n",
    "    \"\"\"\n",
    "    Input :\n",
    "    will receive a video frame, from the frontal camera\n",
    "    \n",
    "    Output :\n",
    "    returns the count of faces detected by the dlib's\n",
    "    default frontal face detector.\n",
    "    \n",
    "    Action :\n",
    "    will detect all the faces and localize them in a rectangular box.\n",
    "    \"\"\"\n",
    "    faceDetector = dlib.get_frontal_face_detector()\n",
    "    faces = faceDetector(frame)\n",
    "    \n",
    "    # faces now contains the coords of the rectangles,\n",
    "    # by which the faces are bound.\n",
    "    # [(x1,y1) (x2,y2)] where pt.1 ~ top left coords\n",
    "    # pt.2 ~ bottom right coords\n",
    "    \n",
    "    faceCount = 0\n",
    "    for face in faces:\n",
    "        x1 = face.left()\n",
    "        y1 = face.top()\n",
    "        \n",
    "        x2 = face.right()\n",
    "        y2 = face.bottom()\n",
    "        \n",
    "        faceCount += 1\n",
    "        # uncomment it to view the localised face in the frame.\n",
    "        # cv2.rectangle(frame,(x1,y1),(x2,y2),(0,255,0),3)\n",
    "        \n",
    "    return (faceCount,faces)"
   ]
  },
  {
   "cell_type": "code",
   "execution_count": 30,
   "metadata": {},
   "outputs": [],
   "source": [
    "def landmarkLocalisation(faces,frame):\n",
    "    \"\"\"\n",
    "    Input : \n",
    "    faces : Faces localized in a rectangle from detectFace() function.\n",
    "    frame : Video frame obtained.\n",
    "    \n",
    "    Output :\n",
    "    <!-- void -->\n",
    "    \n",
    "    Action :\n",
    "    will mark all the 68 facial landmarks on the face detected.\n",
    "    \"\"\"\n",
    "    \n",
    "    for face in faces:\n",
    "        \n",
    "        # giving our detected face and the video frame, to our shape predictor.\n",
    "        # this will create a 68 part object, with each part containing (x,y) coord, of the indivisual facial landmark.\n",
    "        facialLandmarks = shapePredictor(frame,face)\n",
    "        \n",
    "        # looping through all the 68 points of the facial landmarks\n",
    "        for i in range(68):\n",
    "            x_coord = facialLandmarks.part(i).x\n",
    "            y_coord = facialLandmarks.part(i).y\n",
    "            \n",
    "            # plotting each of the faial landmark on the video frame,as a circle with rad = 3\n",
    "            cv2.circle(frame,(x_coord,y_coord),3,(255,0,0),-1)"
   ]
  },
  {
   "cell_type": "code",
   "execution_count": 37,
   "metadata": {},
   "outputs": [],
   "source": [
    "cap = cv2.VideoCapture(0)\n",
    "\n",
    "if(cap.isOpened()==False):\n",
    "    cap.open()\n",
    "    \n",
    "while True:\n",
    "    ret, frame = cap.read()\n",
    "    \n",
    "    # converting frame to grayscale\n",
    "    frame = cv2.cvtColor(frame,cv2.COLOR_BGR2GRAY)\n",
    "    \n",
    "    faceCount,faces = detectFace(frame)\n",
    "    landmarkLocalisation(faces,frame)\n",
    "    \n",
    "    cv2.imshow('frame',frame)\n",
    "    \n",
    "    if cv2.waitKey(1) & 0xFF == ord('q'):\n",
    "        break\n",
    "\n",
    "cap.release()\n",
    "cv2.destroyAllWindows()"
   ]
  },
  {
   "cell_type": "code",
   "execution_count": null,
   "metadata": {},
   "outputs": [],
   "source": []
  }
 ],
 "metadata": {
  "kernelspec": {
   "display_name": "Python 3",
   "language": "python",
   "name": "python3"
  },
  "language_info": {
   "codemirror_mode": {
    "name": "ipython",
    "version": 3
   },
   "file_extension": ".py",
   "mimetype": "text/x-python",
   "name": "python",
   "nbconvert_exporter": "python",
   "pygments_lexer": "ipython3",
   "version": "3.8.6"
  }
 },
 "nbformat": 4,
 "nbformat_minor": 4
}
